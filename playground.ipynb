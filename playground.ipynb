{
  "nbformat": 4,
  "nbformat_minor": 0,
  "metadata": {
    "colab": {
      "name": "Untitled5.ipynb",
      "provenance": [],
      "collapsed_sections": []
    },
    "kernelspec": {
      "name": "python3",
      "display_name": "Python 3"
    }
  },
  "cells": [
    {
      "cell_type": "code",
      "metadata": {
        "id": "kIXXMt3Gw5R7"
      },
      "source": [
        "import numpy as np\n",
        "import math\n",
        "from scipy.spatial import distance\n",
        "from scipy.optimize import curve_fit\n",
        "from copy import copy\n",
        "from random import random\n",
        "from tqdm import tqdm\n",
        "import scipy as scp"
      ],
      "execution_count": 76,
      "outputs": []
    },
    {
      "cell_type": "code",
      "metadata": {
        "id": "R_kJPQs70xD-"
      },
      "source": [
        "from sklearn.datasets import load_digits\n",
        "digits = load_digits()"
      ],
      "execution_count": 77,
      "outputs": []
    },
    {
      "cell_type": "code",
      "metadata": {
        "id": "i4v8vaM90ye6"
      },
      "source": [
        "import numpy as np\n",
        "import matplotlib.pyplot as plt\n",
        "\n",
        "%matplotlib inline"
      ],
      "execution_count": 78,
      "outputs": []
    },
    {
      "cell_type": "code",
      "metadata": {
        "id": "wsAuFZIIyCff"
      },
      "source": [
        "EPS = 1e-3\n",
        "\n",
        "def curve(x, a, b):\n",
        "  return 1.0 / (1.0 + a * x ** (2.0 * b))\n",
        "    \n",
        "\n",
        "def attractive_force(dist_sq, a, b):\n",
        "  if dist_sq > 0.0:\n",
        "    result = -2.0 * a * b * pow(dist_sq, b - 1.0)\n",
        "    result /= a * pow(dist_sq, b) + 1.0\n",
        "  else:\n",
        "    result = 0.0\n",
        "  return result\n",
        "\n",
        "\n",
        "def repilsive_force(dist_sq, a, b):\n",
        "  result = 2.0 * b\n",
        "  result /= (EPS + dist_sq) * (\n",
        "      a * pow(dist_sq, b) + 1\n",
        "  )\n",
        "  return result\n"
      ],
      "execution_count": 87,
      "outputs": []
    },
    {
      "cell_type": "code",
      "metadata": {
        "id": "I2mnGzGNGosq"
      },
      "source": [
        "def find_ab_params(min_dist):\n",
        "  xv = np.linspace(0.0, 3.0, 300)\n",
        "  yv = np.zeros(xv.shape)\n",
        "  yv[xv < min_dist] = 1.0\n",
        "  yv[xv >= min_dist] = np.exp(-(xv[xv >= min_dist] - min_dist))\n",
        "  params, covar = curve_fit(curve, xv, yv)\n",
        "  return params[0], params[1]"
      ],
      "execution_count": 81,
      "outputs": []
    },
    {
      "cell_type": "code",
      "metadata": {
        "id": "icbkqLCyGpfD"
      },
      "source": [
        "def smooth_single_dist(knn_dist):\n",
        "  sigma_lower = 0.0\n",
        "  sigma_upper = None\n",
        "  sigma = 1.0\n",
        "\n",
        "  target = np.log2(len(knn_dist))\n",
        "  while sigma_upper is None or sigma_upper - sigma_lower > EPS:\n",
        "    if sigma > target:\n",
        "      sigma_upper = sigma\n",
        "    else:\n",
        "      sigma_lower = sigma\n",
        "\n",
        "    if sigma_upper is None:\n",
        "      sigma *= 2.0\n",
        "    else:\n",
        "      sigma = (sigma_lower + sigma_upper) / 2.0\n",
        "\n",
        "  non_zero_dist = knn_dist[knn_dist > 0]\n",
        "  if len(non_zero_dist) > 0:\n",
        "    rho = non_zero_dist[0]\n",
        "  else:\n",
        "    rho = EPS\n",
        "\n",
        "  return sigma, rho\n",
        "\n",
        "def smooth_dists(knn_dists):\n",
        "  sigmas = np.zeros(len(knn_dists), dtype=np.float32)\n",
        "  rhos = np.zeros(len(knn_dists), dtype=np.float32)\n",
        "\n",
        "  for i, knn_dist in enumerate(knn_dists):\n",
        "    sigmas[i], rhos[i] = smooth_single_dist(knn_dists)\n",
        "\n",
        "  return sigmas, rhos"
      ],
      "execution_count": 82,
      "outputs": []
    },
    {
      "cell_type": "code",
      "metadata": {
        "id": "4ELAxqHJyG0F"
      },
      "source": [
        "class Umap(object):\n",
        "    \n",
        "  def __init__(self, n_neighbors=15, n_components=2, min_dist=0.1, n_epochs=100):\n",
        "    self.n_neighbors = n_neighbors\n",
        "    self.n_components = n_components\n",
        "    self.n_epochs = n_epochs\n",
        "    self.a, self.b = find_ab_params(min_dist)\n",
        "    \n",
        "  def fit_transform(self, X):\n",
        "    graph = self._build_graph(X)\n",
        "\n",
        "    Y = self._build_embedding(graph)\n",
        "    Y = self._optimize_embedding(graph, Y)\n",
        "    return Y\n",
        "    \n",
        "  def _sdist(self, x_i, x_j):\n",
        "    return distance.euclidean(x_i, x_j)\n",
        "\n",
        "  def _tdist(self, y_i, y_j):\n",
        "    return distance.euclidean(y_i, y_j) ** 2\n",
        "    \n",
        "  def _find_neighbors(self, X):\n",
        "    idxs = np.zeros((len(X), self.n_neighbors), dtype=np.int32)\n",
        "    dists = np.zeros((len(X), self.n_neighbors), dtype=np.float32)\n",
        "\n",
        "    for i, x_i in enumerate(X):\n",
        "      dists_i = np.zeros(len(X), dtype=np.float32)\n",
        "      for j, x_j in enumerate(X):\n",
        "        if i == j:\n",
        "          continue\n",
        "\n",
        "        dists_i[j] = self._sdist(x_i, x_j)\n",
        "      idxs[i] = np.argsort(dists_i)[1 : self.n_neighbors + 1]\n",
        "      dists[i] = dists_i[idxs[i]]\n",
        "\n",
        "    return idxs, dists\n",
        "\n",
        "  def _build_graph(self, X):\n",
        "    knn_idxs, knn_dists = self._find_neighbors(X)\n",
        "    sigmas, rhos = smooth_dists(knn_dists)\n",
        "\n",
        "    rows = np.zeros(len(X) * self.n_neighbors, dtype=np.int32)\n",
        "    cols = np.zeros(len(X) * self.n_neighbors, dtype=np.int32)\n",
        "    vals = np.zeros(len(X) * self.n_neighbors, dtype=np.float32)\n",
        "\n",
        "    for i in range(len(X)):\n",
        "      for j in range(self.n_neighbors):\n",
        "        if knn_idxs[i][j] == -1 or knn_idxs[i][j] == i:\n",
        "            continue\n",
        "\n",
        "        if knn_dists[i][j] - rhos[i] <= 0.0 or sigmas[i] == 0.0:\n",
        "          val = 1.0\n",
        "        else:\n",
        "          val = np.exp(-((knn_dists[i][j] - rhos[i]) / (sigmas[i])))\n",
        "\n",
        "        rows[i * self.n_neighbors + j] = i\n",
        "        cols[i * self.n_neighbors + j] = knn_idxs[i][j]\n",
        "        vals[i * self.n_neighbors + j] = val\n",
        "\n",
        "    graph = scp.sparse.coo_matrix(\n",
        "        (vals, (rows, cols)), shape=(len(X), len(X))\n",
        "    )\n",
        "    return graph\n",
        "\n",
        "  def _build_embedding(self, graph):\n",
        "    diag = np.asarray(graph.sum(axis=0))\n",
        "\n",
        "    I = scp.sparse.identity(graph.shape[0], dtype=np.float64)\n",
        "    D = scp.sparse.spdiags(\n",
        "        1.0 / np.sqrt(diag), [0], graph.shape[0], graph.shape[0]\n",
        "    )\n",
        "    L = I - D * graph * D\n",
        "\n",
        "    k = self.n_components + 1\n",
        "    e_vals, e_vecs = scp.sparse.linalg.eigsh(L, self.n_components + 1)\n",
        "\n",
        "    order = np.argsort(e_vals)[1:k]\n",
        "    return e_vecs[:, order]\n",
        "\n",
        "  def _optimize_embedding(self, graph, Y):\n",
        "    alpha = 1.0\n",
        "    for e in tqdm(range(self.n_epochs)):\n",
        "\n",
        "      for (i, j, v) in zip(graph.row, graph.col, graph.data):\n",
        "        if random() < v:\n",
        "          force = attractive_force(self._tdist(Y[i], Y[j]), self.a, self.b)\n",
        "          Y[i] += alpha * force * (Y[i] - Y[j])\n",
        "\n",
        "          neg_idxs = np.random.choice(graph.shape[0], 5)\n",
        "          for k in neg_idxs:\n",
        "            force = repilsive_force(self._tdist(Y[i], Y[k]), self.a, self.b)\n",
        "            Y[i] += alpha * force * (Y[i] - Y[k])\n",
        "\n",
        "      alpha = 1.0 - e / self.n_epochs\n",
        "\n",
        "    return Y\n"
      ],
      "execution_count": 96,
      "outputs": []
    },
    {
      "cell_type": "code",
      "metadata": {
        "colab": {
          "base_uri": "https://localhost:8080/"
        },
        "id": "-dQr0RHgyCMD",
        "outputId": "d9ece7d3-ffd0-4406-d6de-d3ff5e40f644"
      },
      "source": [
        "reducer = Umap(n_epochs=100)\n",
        "embedding = reducer.fit_transform(digits.data)\n",
        "embedding.shape"
      ],
      "execution_count": 97,
      "outputs": [
        {
          "output_type": "stream",
          "text": [
            "/usr/local/lib/python3.6/dist-packages/ipykernel_launcher.py:70: RuntimeWarning: divide by zero encountered in true_divide\n",
            "100%|██████████| 100/100 [03:24<00:00,  2.04s/it]\n"
          ],
          "name": "stderr"
        },
        {
          "output_type": "execute_result",
          "data": {
            "text/plain": [
              "(1797, 2)"
            ]
          },
          "metadata": {
            "tags": []
          },
          "execution_count": 97
        }
      ]
    },
    {
      "cell_type": "code",
      "metadata": {
        "colab": {
          "base_uri": "https://localhost:8080/",
          "height": 483
        },
        "id": "FomDczjEy3hz",
        "outputId": "baadbc1c-98cd-4da3-e1d5-41fad229a8dc"
      },
      "source": [
        "plt.figure(figsize=(8,8))\n",
        "plt.scatter(embedding[:, 0], embedding[:, 1], c=digits.target, cmap='Spectral', s=5)\n",
        "plt.show()"
      ],
      "execution_count": 98,
      "outputs": [
        {
          "output_type": "display_data",
          "data": {
            "image/png": "[encoded data removed]",
            "text/plain": [
              "<Figure size 576x576 with 1 Axes>"
            ]
          },
          "metadata": {
            "tags": [],
            "needs_background": "light"
          }
        }
      ]
    },
    {
      "cell_type": "code",
      "metadata": {
        "id": "PL_19k2HxZpT"
      },
      "source": [
        ""
      ],
      "execution_count": null,
      "outputs": []
    }
  ]
}
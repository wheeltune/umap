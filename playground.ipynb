{
 "cells": [
  {
   "cell_type": "code",
   "execution_count": 593,
   "metadata": {},
   "outputs": [],
   "source": [
    "import numpy as np\n",
    "import math\n",
    "from scipy.spatial import distance\n",
    "from scipy.optimize import curve_fit\n",
    "from copy import copy\n",
    "from random import random\n",
    "from tqdm import tqdm"
   ]
  },
  {
   "cell_type": "code",
   "execution_count": 594,
   "metadata": {},
   "outputs": [],
   "source": [
    "import sys"
   ]
  },
  {
   "cell_type": "code",
   "execution_count": 595,
   "metadata": {},
   "outputs": [],
   "source": [
    "EPS = 1e-6\n",
    "\n",
    "def curve(x, a, b):\n",
    "    return 1.0 / (1.0 + a * x ** (2 * b))\n",
    "    \n",
    "\n",
    "def force_curve(x, w, a, b):\n",
    "    x2 = np.sum(x ** 2)\n",
    "    return (-2 * a * b * x2 ** (b - 1)) / (1 + x2) * w * x\n",
    "    \n",
    "\n",
    "def repilsive_curve(x, w, a, b):\n",
    "    x2 = np.sum(x ** 2)\n",
    "    return (2 * b) / ((EPS + x2) * (1 + a * x2 ** b)) * (1 - w) * x\n",
    "    \n",
    "    \n",
    "def find_ab_params(min_dist):\n",
    "    xv = np.linspace(0.0, 1.0, 300)\n",
    "    yv = np.zeros(xv.shape)\n",
    "    yv[xv < min_dist] = 1.0\n",
    "    yv[xv >= min_dist] = np.exp(-(xv[xv >= min_dist] - min_dist))\n",
    "    params, covar = curve_fit(curve, xv, yv)\n",
    "    return params[0], params[1]\n",
    "\n",
    "\n",
    "class Umap(object):\n",
    "    \n",
    "    def __init__(self, n_neighbors=5, n_targets=2, min_dist=0.0, n_epochs=100):\n",
    "        self.n_neighbors = n_neighbors\n",
    "        self.n_targets = n_targets\n",
    "        self.n_epochs = n_epochs\n",
    "        self.a, self.b = find_ab_params(min_dist)\n",
    "    \n",
    "    def fit_transform(self, X):\n",
    "        fs_set = np.array([np.zeros(len(X)) for i in range(len(X))])\n",
    "        for x_i in tqdm(range(len(X))):\n",
    "            self._build_fs_set(X, x_i, fs_set)\n",
    "        \n",
    "        Y = self._build_embedding(fs_set)\n",
    "        Y = self._optimize_embedding(fs_set, Y, X)\n",
    "        return Y\n",
    "    \n",
    "    def _calc_distance(self, x, y):\n",
    "        return distance.cosine(x, y)\n",
    "\n",
    "    def _build_fs_set(self, X, x_i, fs_set):\n",
    "        knn, knn_dists = self._find_nearest_neighbors(X, x_i)\n",
    "        \n",
    "        p = knn_dists[0]\n",
    "        sig = self._smooth_knn_dists(knn_dists, p)\n",
    "        \n",
    "        for y_i in knn:\n",
    "            d = max(0, self._calc_distance(X[x_i], X[y_i]) - p) / sig\n",
    "            fs_set[x_i][y_i] = math.exp(-d)\n",
    "            \n",
    "        return fs_set\n",
    "    \n",
    "    def _find_nearest_neighbors(self, X, x_i):\n",
    "        dists = np.array([self._calc_distance(y, X[x_i]) for y in X])\n",
    "        idx = np.argsort(dists)[1:self.n_neighbors + 1]\n",
    "        return idx, dists[idx]\n",
    "    \n",
    "    def _smooth_knn_dists(self, knn_dists, p):\n",
    "        sig_lower = 0.0\n",
    "        sig_upper = 10.0\n",
    "        \n",
    "        edge = math.log(self.n_neighbors, 2)\n",
    "        while (sig_upper - sig_lower > 0.00001):\n",
    "            sig = (sig_upper + sig_lower) / 2\n",
    "            w = np.sum(np.exp(-(knn_dists - p) / sig))\n",
    "            if w > edge:\n",
    "                sig_upper = sig\n",
    "            else:\n",
    "                sig_lower = sig\n",
    "                \n",
    "        return sig\n",
    "    \n",
    "    def _build_embedding(self, A):\n",
    "        D = np.diag(np.sum(A > 0, axis=1)) ** (1 / 2)\n",
    "        B = A + np.transpose(A) -  np.matmul(A, np.transpose(A))\n",
    "        L = np.matmul(np.matmul(D, (D - B)), D)\n",
    "    \n",
    "        w, v = np.linalg.eig(L)\n",
    "        idx = np.argsort(w)\n",
    "        evec = v[:,idx]\n",
    "        \n",
    "        return np.transpose(evec[1 : self.n_targets + 1])\n",
    "    \n",
    "    def _optimize_embedding(self, fs_set, Y, X):\n",
    "        alpha = 1.0\n",
    "        for e in tqdm(range(1, self.n_epochs + 1)):\n",
    "            Y_tmp = copy(Y)\n",
    "\n",
    "            for x_i in range(len(fs_set)):\n",
    "                for x_j in range(len(fs_set[x_i])):\n",
    "                    if random() < fs_set[x_i][x_j]:\n",
    "                        Y_tmp[x_i] = Y[x_i] + alpha * force_curve(Y[x_i] - Y[x_j],\n",
    "                                                                  self._calc_distance(X[x_i], X[x_j]),\n",
    "                                                                  self.a, self.b)\n",
    "\n",
    "                        neg_inds = np.random.choice(len(Y), 5)\n",
    "                        for x_k in neg_inds:\n",
    "                            Y_tmp[x_i] = Y[x_i] + alpha * repilsive_curve(Y[x_i] - Y[x_j],\n",
    "                                                                          self._calc_distance(X[x_i], X[x_j]),\n",
    "                                                                          self.a, self.b)\n",
    "                    \n",
    "            Y = Y_tmp\n",
    "            alpha = 1.0 - e / self.n_epochs\n",
    "                    \n",
    "        return Y\n",
    "    "
   ]
  },
  {
   "cell_type": "code",
   "execution_count": 596,
   "metadata": {},
   "outputs": [
    {
     "name": "stdout",
     "output_type": "stream",
     "text": [
      "1.6083394510691196 0.6296117150454154\n"
     ]
    }
   ],
   "source": [
    "umap = Umap()"
   ]
  },
  {
   "cell_type": "code",
   "execution_count": 597,
   "metadata": {},
   "outputs": [],
   "source": [
    "images = []\n",
    "with open('data/fashion/t10k-images-idx3-text') as file:\n",
    "    for line in file:\n",
    "        images.append(list(map(float, line.split())))\n",
    "images = np.array(images)[:1000]\n",
    "    \n",
    "labels = []\n",
    "with open('data/fashion/t10k-labels-idx1-text') as file:\n",
    "    for line in file:\n",
    "        labels.append(int(line.strip()))\n",
    "labels = np.array(labels)[:1000]"
   ]
  },
  {
   "cell_type": "code",
   "execution_count": 598,
   "metadata": {},
   "outputs": [
    {
     "data": {
      "text/plain": [
       "(1000, 1000)"
      ]
     },
     "execution_count": 598,
     "metadata": {},
     "output_type": "execute_result"
    }
   ],
   "source": [
    "len(images), len(labels)"
   ]
  },
  {
   "cell_type": "code",
   "execution_count": null,
   "metadata": {},
   "outputs": [
    {
     "name": "stderr",
     "output_type": "stream",
     "text": [
      " 14%|█▍        | 141/1000 [00:19<01:48,  7.90it/s]"
     ]
    }
   ],
   "source": [
    "embedding = umap.fit_transform(images)"
   ]
  },
  {
   "cell_type": "code",
   "execution_count": null,
   "metadata": {},
   "outputs": [],
   "source": [
    "%matplotlib inline\n",
    "import matplotlib.pyplot as plt\n",
    "from matplotlib import colors\n",
    "plt.style.use('seaborn-whitegrid')"
   ]
  },
  {
   "cell_type": "code",
   "execution_count": null,
   "metadata": {},
   "outputs": [],
   "source": [
    "x, y = zip(*embedding)\n",
    "\n",
    "plt.figure(figsize=(8, 8))\n",
    "plt.scatter(x, y, c=labels*10, cmap='viridis')\n",
    "plt.show()"
   ]
  },
  {
   "cell_type": "code",
   "execution_count": 560,
   "metadata": {},
   "outputs": [],
   "source": [
    "import umap"
   ]
  },
  {
   "cell_type": "code",
   "execution_count": 561,
   "metadata": {},
   "outputs": [
    {
     "ename": "AttributeError",
     "evalue": "module 'umap' has no attribute 'UMAP'",
     "output_type": "error",
     "traceback": [
      "\u001b[0;31m---------------------------------------------------------------------------\u001b[0m",
      "\u001b[0;31mAttributeError\u001b[0m                            Traceback (most recent call last)",
      "\u001b[0;32m<ipython-input-561-f248c7a0d912>\u001b[0m in \u001b[0;36m<module>\u001b[0;34m\u001b[0m\n\u001b[0;32m----> 1\u001b[0;31m \u001b[0membedding\u001b[0m \u001b[0;34m=\u001b[0m \u001b[0mumap\u001b[0m\u001b[0;34m.\u001b[0m\u001b[0mUMAP\u001b[0m\u001b[0;34m(\u001b[0m\u001b[0mn_neighbors\u001b[0m\u001b[0;34m=\u001b[0m\u001b[0;36m5\u001b[0m\u001b[0;34m)\u001b[0m\u001b[0;34m.\u001b[0m\u001b[0mfit_transform\u001b[0m\u001b[0;34m(\u001b[0m\u001b[0mimages\u001b[0m\u001b[0;34m)\u001b[0m\u001b[0;34m\u001b[0m\u001b[0;34m\u001b[0m\u001b[0m\n\u001b[0m",
      "\u001b[0;31mAttributeError\u001b[0m: module 'umap' has no attribute 'UMAP'"
     ]
    }
   ],
   "source": [
    "embedding = umap.UMAP(n_neighbors=5).fit_transform(images)"
   ]
  },
  {
   "cell_type": "code",
   "execution_count": null,
   "metadata": {},
   "outputs": [],
   "source": []
  }
 ],
 "metadata": {
  "kernelspec": {
   "display_name": "Python 3",
   "language": "python",
   "name": "python3"
  },
  "language_info": {
   "codemirror_mode": {
    "name": "ipython",
    "version": 3
   },
   "file_extension": ".py",
   "mimetype": "text/x-python",
   "name": "python",
   "nbconvert_exporter": "python",
   "pygments_lexer": "ipython3",
   "version": "3.9.1"
  }
 },
 "nbformat": 4,
 "nbformat_minor": 2
}
